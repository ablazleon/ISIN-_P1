{
 "cells": [
  {
   "cell_type": "code",
   "execution_count": 37,
   "metadata": {},
   "outputs": [],
   "source": [
    "\n",
    "\n",
    "\n"
   ]
  },
  {
   "cell_type": "code",
   "execution_count": 64,
   "metadata": {},
   "outputs": [
    {
     "name": "stdout",
     "output_type": "stream",
     "text": [
      "767.5673883492954\n",
      "-9.125112722655192\n"
     ]
    }
   ],
   "source": [
    "import numpy as np\n",
    "import math\n",
    "\n",
    "def S(T):\n",
    "    return ((R*RL**2)/(R+RL)**2)*(-B/T**2)\n",
    "\n",
    "B = 3*10**3\n",
    "RL = 3*10**3\n",
    "R0 = 10*10**3\n",
    "T = 400\n",
    "TN = 298\n",
    "R = R0*np.exp(B*((1/T)-(1/TN)))\n",
    "print(R)\n",
    "print(S(T))"
   ]
  },
  {
   "cell_type": "code",
   "execution_count": 65,
   "metadata": {},
   "outputs": [
    {
     "name": "stdout",
     "output_type": "stream",
     "text": [
      "9350.885072998231\n",
      "-18.389834167128342\n"
     ]
    }
   ],
   "source": [
    "import numpy as np\n",
    "import math\n",
    "\n",
    "def S(T):\n",
    "    return ((R*RL**2)/(R+RL)**2)*(-B/T**2)\n",
    "\n",
    "B = 3*10**3\n",
    "RL = 3*10**3\n",
    "R0 = 10*10**3\n",
    "T = 300\n",
    "TN = 298\n",
    "R = R0*np.exp(B*((1/T)-(1/TN)))\n",
    "print(R)\n",
    "print(S(T))"
   ]
  },
  {
   "cell_type": "code",
   "execution_count": 51,
   "metadata": {},
   "outputs": [
    {
     "name": "stdout",
     "output_type": "stream",
     "text": [
      "10000\n"
     ]
    }
   ],
   "source": []
  }
 ],
 "metadata": {
  "kernelspec": {
   "display_name": "Python 3",
   "language": "python",
   "name": "python3"
  },
  "language_info": {
   "codemirror_mode": {
    "name": "ipython",
    "version": 3
   },
   "file_extension": ".py",
   "mimetype": "text/x-python",
   "name": "python",
   "nbconvert_exporter": "python",
   "pygments_lexer": "ipython3",
   "version": "3.7.6"
  }
 },
 "nbformat": 4,
 "nbformat_minor": 4
}
